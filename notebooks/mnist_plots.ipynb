{
 "cells": [
  {
   "cell_type": "code",
   "execution_count": null,
   "metadata": {},
   "outputs": [],
   "source": [
    "# parse\n",
    "import re\n",
    "loss_regex = r\"Average loss: (\\d+\\.\\d+)\"\n",
    "acc_regex = r\"Accuracy: (\\d+\\/\\d+)\"\n",
    "comp_regex = r\"Bandwidth savings: from \\d+ to \\d+ \\((\\d+\\.\\d+)x\\)\"\n",
    "\n",
    "def parse(file, regex):\n",
    "    nums = []\n",
    "    for line in open(file, \"r\").readlines():\n",
    "        matches = re.search(regex, line)\n",
    "        if matches:\n",
    "            nums.append(float(eval(matches.group(1))))\n",
    "    return nums\n",
    "\n",
    "def parse_loss(file):\n",
    "    return parse(file, acc_regex)\n",
    "\n",
    "def parse_comp_ratio(file):\n",
    "    return parse(file, comp_regex)\n"
   ]
  },
  {
   "cell_type": "code",
   "execution_count": null,
   "metadata": {},
   "outputs": [],
   "source": [
    "from os import listdir\n",
    "import pandas as pd\n",
    "\n",
    "data = {\n",
    "    \"loss\": [],\n",
    "    \"name\": []\n",
    "}\n",
    "\n",
    "files = [file for file in listdir(\"logs\") if \"mnist\" in file and \"8\" in file]\n",
    "files.sort(reverse=True)\n",
    "\n",
    "for name in files:\n",
    "    file = f\"logs/{name}\"\n",
    "    attrs = {}\n",
    "    data[\"loss\"].append(parse_loss(file))\n",
    "\n",
    "    name = name.removeprefix('mnist_')\n",
    "    name = name.removesuffix('.log')\n",
    "\n",
    "    data[\"name\"].append(name)\n",
    "    \n",
    "\n",
    "df = pd.DataFrame(data)\n",
    "df"
   ]
  },
  {
   "cell_type": "code",
   "execution_count": null,
   "metadata": {},
   "outputs": [],
   "source": [
    "import numpy as np\n",
    "import matplotlib.pyplot as plt\n",
    "    \n",
    "num_epochs = None\n",
    "\n",
    "plt.figure(figsize=(8, 5)) \n",
    "for i, row in df.iterrows():\n",
    "    row_iters = len(row[\"loss\"])\n",
    "    if num_epochs is None: num_epochs = row_iters\n",
    "    else: assert row_iters == num_epochs, \"number of its should be consistent\"\n",
    "    t = np.arange(1, num_epochs + 1)\n",
    "    plt.plot(t, row[\"loss\"], label=row[\"name\"])\n",
    "\n",
    "plt.title(f\"MNIST Training Accuracy\")\n",
    "plt.xlabel(\"Epoch\")\n",
    "plt.ylabel(\"Training Accuracy\")\n",
    "#plt.ylim(0.5, 0.9)\n",
    "#plt.yscale(\"log\")\n",
    "plt.grid(True)\n",
    "plt.legend()\n",
    "plt.show()"
   ]
  }
 ],
 "metadata": {
  "interpreter": {
   "hash": "31f2aee4e71d21fbe5cf8b01ff0e069b9275f58929596ceb00d14d90e3e16cd6"
  },
  "kernelspec": {
   "display_name": "Python 3.8.10 64-bit",
   "language": "python",
   "name": "python3"
  },
  "language_info": {
   "codemirror_mode": {
    "name": "ipython",
    "version": 3
   },
   "file_extension": ".py",
   "mimetype": "text/x-python",
   "name": "python",
   "nbconvert_exporter": "python",
   "pygments_lexer": "ipython3",
   "version": "3.9.7"
  },
  "orig_nbformat": 4
 },
 "nbformat": 4,
 "nbformat_minor": 2
}
